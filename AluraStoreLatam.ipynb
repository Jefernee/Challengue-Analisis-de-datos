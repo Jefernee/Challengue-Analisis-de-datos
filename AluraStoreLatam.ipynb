{
  "nbformat": 4,
  "nbformat_minor": 0,
  "metadata": {
    "colab": {
      "provenance": [],
      "include_colab_link": true
    },
    "kernelspec": {
      "name": "python3",
      "display_name": "Python 3"
    },
    "language_info": {
      "name": "python"
    }
  },
  "cells": [
    {
      "cell_type": "markdown",
      "metadata": {
        "id": "view-in-github",
        "colab_type": "text"
      },
      "source": [
        "<a href=\"https://colab.research.google.com/github/Jefernee/Challengue-Analisis-de-datos/blob/main/AluraStoreLatam.ipynb\" target=\"_parent\"><img src=\"https://colab.research.google.com/assets/colab-badge.svg\" alt=\"Open In Colab\"/></a>"
      ]
    },
    {
      "cell_type": "markdown",
      "source": [
        "### Importación de datos\n",
        "\n"
      ],
      "metadata": {
        "id": "RhEdWd9YUR6H"
      }
    },
    {
      "cell_type": "code",
      "execution_count": 2,
      "metadata": {
        "colab": {
          "base_uri": "https://localhost:8080/",
          "height": 362
        },
        "id": "T3EvaeQ_INIL",
        "outputId": "4fd817f0-b8b2-416f-ec3e-c20c5b2b327e"
      },
      "outputs": [
        {
          "output_type": "execute_result",
          "data": {
            "text/plain": [
              "            Producto Categoría del Producto    Precio  Costo de envío  \\\n",
              "0  Asistente virtual           Electrónicos  164300.0          6900.0   \n",
              "1    Mesa de comedor                Muebles  192300.0          8400.0   \n",
              "2      Juego de mesa               Juguetes  209600.0         15900.0   \n",
              "3         Microondas      Electrodomésticos  757500.0         41000.0   \n",
              "4   Silla de oficina                Muebles  335200.0         20200.0   \n",
              "\n",
              "  Fecha de Compra         Vendedor Lugar de Compra  Calificación  \\\n",
              "0      16/01/2021      Pedro Gomez          Bogotá             4   \n",
              "1      18/05/2022  Beatriz Morales        Medellín             1   \n",
              "2      15/03/2021   Juan Fernandez       Cartagena             1   \n",
              "3      03/05/2022   Juan Fernandez            Cali             4   \n",
              "4      07/11/2020    Maria Alfonso        Medellín             5   \n",
              "\n",
              "       Método de pago  Cantidad de cuotas       lat       lon  \n",
              "0  Tarjeta de crédito                   8   4.60971 -74.08175  \n",
              "1  Tarjeta de crédito                   4   6.25184 -75.56359  \n",
              "2  Tarjeta de crédito                   1  10.39972 -75.51444  \n",
              "3               Nequi                   1   3.43722 -76.52250  \n",
              "4               Nequi                   1   6.25184 -75.56359  "
            ],
            "text/html": [
              "\n",
              "  <div id=\"df-af63d9f6-9c0d-4795-8159-bf29ac238cae\" class=\"colab-df-container\">\n",
              "    <div>\n",
              "<style scoped>\n",
              "    .dataframe tbody tr th:only-of-type {\n",
              "        vertical-align: middle;\n",
              "    }\n",
              "\n",
              "    .dataframe tbody tr th {\n",
              "        vertical-align: top;\n",
              "    }\n",
              "\n",
              "    .dataframe thead th {\n",
              "        text-align: right;\n",
              "    }\n",
              "</style>\n",
              "<table border=\"1\" class=\"dataframe\">\n",
              "  <thead>\n",
              "    <tr style=\"text-align: right;\">\n",
              "      <th></th>\n",
              "      <th>Producto</th>\n",
              "      <th>Categoría del Producto</th>\n",
              "      <th>Precio</th>\n",
              "      <th>Costo de envío</th>\n",
              "      <th>Fecha de Compra</th>\n",
              "      <th>Vendedor</th>\n",
              "      <th>Lugar de Compra</th>\n",
              "      <th>Calificación</th>\n",
              "      <th>Método de pago</th>\n",
              "      <th>Cantidad de cuotas</th>\n",
              "      <th>lat</th>\n",
              "      <th>lon</th>\n",
              "    </tr>\n",
              "  </thead>\n",
              "  <tbody>\n",
              "    <tr>\n",
              "      <th>0</th>\n",
              "      <td>Asistente virtual</td>\n",
              "      <td>Electrónicos</td>\n",
              "      <td>164300.0</td>\n",
              "      <td>6900.0</td>\n",
              "      <td>16/01/2021</td>\n",
              "      <td>Pedro Gomez</td>\n",
              "      <td>Bogotá</td>\n",
              "      <td>4</td>\n",
              "      <td>Tarjeta de crédito</td>\n",
              "      <td>8</td>\n",
              "      <td>4.60971</td>\n",
              "      <td>-74.08175</td>\n",
              "    </tr>\n",
              "    <tr>\n",
              "      <th>1</th>\n",
              "      <td>Mesa de comedor</td>\n",
              "      <td>Muebles</td>\n",
              "      <td>192300.0</td>\n",
              "      <td>8400.0</td>\n",
              "      <td>18/05/2022</td>\n",
              "      <td>Beatriz Morales</td>\n",
              "      <td>Medellín</td>\n",
              "      <td>1</td>\n",
              "      <td>Tarjeta de crédito</td>\n",
              "      <td>4</td>\n",
              "      <td>6.25184</td>\n",
              "      <td>-75.56359</td>\n",
              "    </tr>\n",
              "    <tr>\n",
              "      <th>2</th>\n",
              "      <td>Juego de mesa</td>\n",
              "      <td>Juguetes</td>\n",
              "      <td>209600.0</td>\n",
              "      <td>15900.0</td>\n",
              "      <td>15/03/2021</td>\n",
              "      <td>Juan Fernandez</td>\n",
              "      <td>Cartagena</td>\n",
              "      <td>1</td>\n",
              "      <td>Tarjeta de crédito</td>\n",
              "      <td>1</td>\n",
              "      <td>10.39972</td>\n",
              "      <td>-75.51444</td>\n",
              "    </tr>\n",
              "    <tr>\n",
              "      <th>3</th>\n",
              "      <td>Microondas</td>\n",
              "      <td>Electrodomésticos</td>\n",
              "      <td>757500.0</td>\n",
              "      <td>41000.0</td>\n",
              "      <td>03/05/2022</td>\n",
              "      <td>Juan Fernandez</td>\n",
              "      <td>Cali</td>\n",
              "      <td>4</td>\n",
              "      <td>Nequi</td>\n",
              "      <td>1</td>\n",
              "      <td>3.43722</td>\n",
              "      <td>-76.52250</td>\n",
              "    </tr>\n",
              "    <tr>\n",
              "      <th>4</th>\n",
              "      <td>Silla de oficina</td>\n",
              "      <td>Muebles</td>\n",
              "      <td>335200.0</td>\n",
              "      <td>20200.0</td>\n",
              "      <td>07/11/2020</td>\n",
              "      <td>Maria Alfonso</td>\n",
              "      <td>Medellín</td>\n",
              "      <td>5</td>\n",
              "      <td>Nequi</td>\n",
              "      <td>1</td>\n",
              "      <td>6.25184</td>\n",
              "      <td>-75.56359</td>\n",
              "    </tr>\n",
              "  </tbody>\n",
              "</table>\n",
              "</div>\n",
              "    <div class=\"colab-df-buttons\">\n",
              "\n",
              "  <div class=\"colab-df-container\">\n",
              "    <button class=\"colab-df-convert\" onclick=\"convertToInteractive('df-af63d9f6-9c0d-4795-8159-bf29ac238cae')\"\n",
              "            title=\"Convert this dataframe to an interactive table.\"\n",
              "            style=\"display:none;\">\n",
              "\n",
              "  <svg xmlns=\"http://www.w3.org/2000/svg\" height=\"24px\" viewBox=\"0 -960 960 960\">\n",
              "    <path d=\"M120-120v-720h720v720H120Zm60-500h600v-160H180v160Zm220 220h160v-160H400v160Zm0 220h160v-160H400v160ZM180-400h160v-160H180v160Zm440 0h160v-160H620v160ZM180-180h160v-160H180v160Zm440 0h160v-160H620v160Z\"/>\n",
              "  </svg>\n",
              "    </button>\n",
              "\n",
              "  <style>\n",
              "    .colab-df-container {\n",
              "      display:flex;\n",
              "      gap: 12px;\n",
              "    }\n",
              "\n",
              "    .colab-df-convert {\n",
              "      background-color: #E8F0FE;\n",
              "      border: none;\n",
              "      border-radius: 50%;\n",
              "      cursor: pointer;\n",
              "      display: none;\n",
              "      fill: #1967D2;\n",
              "      height: 32px;\n",
              "      padding: 0 0 0 0;\n",
              "      width: 32px;\n",
              "    }\n",
              "\n",
              "    .colab-df-convert:hover {\n",
              "      background-color: #E2EBFA;\n",
              "      box-shadow: 0px 1px 2px rgba(60, 64, 67, 0.3), 0px 1px 3px 1px rgba(60, 64, 67, 0.15);\n",
              "      fill: #174EA6;\n",
              "    }\n",
              "\n",
              "    .colab-df-buttons div {\n",
              "      margin-bottom: 4px;\n",
              "    }\n",
              "\n",
              "    [theme=dark] .colab-df-convert {\n",
              "      background-color: #3B4455;\n",
              "      fill: #D2E3FC;\n",
              "    }\n",
              "\n",
              "    [theme=dark] .colab-df-convert:hover {\n",
              "      background-color: #434B5C;\n",
              "      box-shadow: 0px 1px 3px 1px rgba(0, 0, 0, 0.15);\n",
              "      filter: drop-shadow(0px 1px 2px rgba(0, 0, 0, 0.3));\n",
              "      fill: #FFFFFF;\n",
              "    }\n",
              "  </style>\n",
              "\n",
              "    <script>\n",
              "      const buttonEl =\n",
              "        document.querySelector('#df-af63d9f6-9c0d-4795-8159-bf29ac238cae button.colab-df-convert');\n",
              "      buttonEl.style.display =\n",
              "        google.colab.kernel.accessAllowed ? 'block' : 'none';\n",
              "\n",
              "      async function convertToInteractive(key) {\n",
              "        const element = document.querySelector('#df-af63d9f6-9c0d-4795-8159-bf29ac238cae');\n",
              "        const dataTable =\n",
              "          await google.colab.kernel.invokeFunction('convertToInteractive',\n",
              "                                                    [key], {});\n",
              "        if (!dataTable) return;\n",
              "\n",
              "        const docLinkHtml = 'Like what you see? Visit the ' +\n",
              "          '<a target=\"_blank\" href=https://colab.research.google.com/notebooks/data_table.ipynb>data table notebook</a>'\n",
              "          + ' to learn more about interactive tables.';\n",
              "        element.innerHTML = '';\n",
              "        dataTable['output_type'] = 'display_data';\n",
              "        await google.colab.output.renderOutput(dataTable, element);\n",
              "        const docLink = document.createElement('div');\n",
              "        docLink.innerHTML = docLinkHtml;\n",
              "        element.appendChild(docLink);\n",
              "      }\n",
              "    </script>\n",
              "  </div>\n",
              "\n",
              "\n",
              "    <div id=\"df-3e49f073-062d-47a1-81bd-1d3c427ead5b\">\n",
              "      <button class=\"colab-df-quickchart\" onclick=\"quickchart('df-3e49f073-062d-47a1-81bd-1d3c427ead5b')\"\n",
              "                title=\"Suggest charts\"\n",
              "                style=\"display:none;\">\n",
              "\n",
              "<svg xmlns=\"http://www.w3.org/2000/svg\" height=\"24px\"viewBox=\"0 0 24 24\"\n",
              "     width=\"24px\">\n",
              "    <g>\n",
              "        <path d=\"M19 3H5c-1.1 0-2 .9-2 2v14c0 1.1.9 2 2 2h14c1.1 0 2-.9 2-2V5c0-1.1-.9-2-2-2zM9 17H7v-7h2v7zm4 0h-2V7h2v10zm4 0h-2v-4h2v4z\"/>\n",
              "    </g>\n",
              "</svg>\n",
              "      </button>\n",
              "\n",
              "<style>\n",
              "  .colab-df-quickchart {\n",
              "      --bg-color: #E8F0FE;\n",
              "      --fill-color: #1967D2;\n",
              "      --hover-bg-color: #E2EBFA;\n",
              "      --hover-fill-color: #174EA6;\n",
              "      --disabled-fill-color: #AAA;\n",
              "      --disabled-bg-color: #DDD;\n",
              "  }\n",
              "\n",
              "  [theme=dark] .colab-df-quickchart {\n",
              "      --bg-color: #3B4455;\n",
              "      --fill-color: #D2E3FC;\n",
              "      --hover-bg-color: #434B5C;\n",
              "      --hover-fill-color: #FFFFFF;\n",
              "      --disabled-bg-color: #3B4455;\n",
              "      --disabled-fill-color: #666;\n",
              "  }\n",
              "\n",
              "  .colab-df-quickchart {\n",
              "    background-color: var(--bg-color);\n",
              "    border: none;\n",
              "    border-radius: 50%;\n",
              "    cursor: pointer;\n",
              "    display: none;\n",
              "    fill: var(--fill-color);\n",
              "    height: 32px;\n",
              "    padding: 0;\n",
              "    width: 32px;\n",
              "  }\n",
              "\n",
              "  .colab-df-quickchart:hover {\n",
              "    background-color: var(--hover-bg-color);\n",
              "    box-shadow: 0 1px 2px rgba(60, 64, 67, 0.3), 0 1px 3px 1px rgba(60, 64, 67, 0.15);\n",
              "    fill: var(--button-hover-fill-color);\n",
              "  }\n",
              "\n",
              "  .colab-df-quickchart-complete:disabled,\n",
              "  .colab-df-quickchart-complete:disabled:hover {\n",
              "    background-color: var(--disabled-bg-color);\n",
              "    fill: var(--disabled-fill-color);\n",
              "    box-shadow: none;\n",
              "  }\n",
              "\n",
              "  .colab-df-spinner {\n",
              "    border: 2px solid var(--fill-color);\n",
              "    border-color: transparent;\n",
              "    border-bottom-color: var(--fill-color);\n",
              "    animation:\n",
              "      spin 1s steps(1) infinite;\n",
              "  }\n",
              "\n",
              "  @keyframes spin {\n",
              "    0% {\n",
              "      border-color: transparent;\n",
              "      border-bottom-color: var(--fill-color);\n",
              "      border-left-color: var(--fill-color);\n",
              "    }\n",
              "    20% {\n",
              "      border-color: transparent;\n",
              "      border-left-color: var(--fill-color);\n",
              "      border-top-color: var(--fill-color);\n",
              "    }\n",
              "    30% {\n",
              "      border-color: transparent;\n",
              "      border-left-color: var(--fill-color);\n",
              "      border-top-color: var(--fill-color);\n",
              "      border-right-color: var(--fill-color);\n",
              "    }\n",
              "    40% {\n",
              "      border-color: transparent;\n",
              "      border-right-color: var(--fill-color);\n",
              "      border-top-color: var(--fill-color);\n",
              "    }\n",
              "    60% {\n",
              "      border-color: transparent;\n",
              "      border-right-color: var(--fill-color);\n",
              "    }\n",
              "    80% {\n",
              "      border-color: transparent;\n",
              "      border-right-color: var(--fill-color);\n",
              "      border-bottom-color: var(--fill-color);\n",
              "    }\n",
              "    90% {\n",
              "      border-color: transparent;\n",
              "      border-bottom-color: var(--fill-color);\n",
              "    }\n",
              "  }\n",
              "</style>\n",
              "\n",
              "      <script>\n",
              "        async function quickchart(key) {\n",
              "          const quickchartButtonEl =\n",
              "            document.querySelector('#' + key + ' button');\n",
              "          quickchartButtonEl.disabled = true;  // To prevent multiple clicks.\n",
              "          quickchartButtonEl.classList.add('colab-df-spinner');\n",
              "          try {\n",
              "            const charts = await google.colab.kernel.invokeFunction(\n",
              "                'suggestCharts', [key], {});\n",
              "          } catch (error) {\n",
              "            console.error('Error during call to suggestCharts:', error);\n",
              "          }\n",
              "          quickchartButtonEl.classList.remove('colab-df-spinner');\n",
              "          quickchartButtonEl.classList.add('colab-df-quickchart-complete');\n",
              "        }\n",
              "        (() => {\n",
              "          let quickchartButtonEl =\n",
              "            document.querySelector('#df-3e49f073-062d-47a1-81bd-1d3c427ead5b button');\n",
              "          quickchartButtonEl.style.display =\n",
              "            google.colab.kernel.accessAllowed ? 'block' : 'none';\n",
              "        })();\n",
              "      </script>\n",
              "    </div>\n",
              "\n",
              "    </div>\n",
              "  </div>\n"
            ],
            "application/vnd.google.colaboratory.intrinsic+json": {
              "type": "dataframe",
              "variable_name": "tienda",
              "summary": "{\n  \"name\": \"tienda\",\n  \"rows\": 2359,\n  \"fields\": [\n    {\n      \"column\": \"Producto\",\n      \"properties\": {\n        \"dtype\": \"category\",\n        \"num_unique_values\": 51,\n        \"samples\": [\n          \"Guitarra ac\\u00fastica\",\n          \"Bal\\u00f3n de baloncesto\",\n          \"Smartwatch\"\n        ],\n        \"semantic_type\": \"\",\n        \"description\": \"\"\n      }\n    },\n    {\n      \"column\": \"Categor\\u00eda del Producto\",\n      \"properties\": {\n        \"dtype\": \"category\",\n        \"num_unique_values\": 8,\n        \"samples\": [\n          \"Muebles\",\n          \"Deportes y diversi\\u00f3n\",\n          \"Electr\\u00f3nicos\"\n        ],\n        \"semantic_type\": \"\",\n        \"description\": \"\"\n      }\n    },\n    {\n      \"column\": \"Precio\",\n      \"properties\": {\n        \"dtype\": \"number\",\n        \"std\": 614686.7653873172,\n        \"min\": 7600.0,\n        \"max\": 2977000.0,\n        \"num_unique_values\": 1937,\n        \"samples\": [\n          2499400.0,\n          14800.0,\n          80500.0\n        ],\n        \"semantic_type\": \"\",\n        \"description\": \"\"\n      }\n    },\n    {\n      \"column\": \"Costo de env\\u00edo\",\n      \"properties\": {\n        \"dtype\": \"number\",\n        \"std\": 32860.0017825605,\n        \"min\": 0.0,\n        \"max\": 160800.0,\n        \"num_unique_values\": 753,\n        \"samples\": [\n          117800.0,\n          54700.0,\n          45600.0\n        ],\n        \"semantic_type\": \"\",\n        \"description\": \"\"\n      }\n    },\n    {\n      \"column\": \"Fecha de Compra\",\n      \"properties\": {\n        \"dtype\": \"object\",\n        \"num_unique_values\": 1018,\n        \"samples\": [\n          \"15/09/2022\",\n          \"03/06/2020\",\n          \"06/11/2021\"\n        ],\n        \"semantic_type\": \"\",\n        \"description\": \"\"\n      }\n    },\n    {\n      \"column\": \"Vendedor\",\n      \"properties\": {\n        \"dtype\": \"category\",\n        \"num_unique_values\": 14,\n        \"samples\": [\n          \"Juliana Costa\",\n          \"Mariana Herrera\",\n          \"Pedro Gomez\"\n        ],\n        \"semantic_type\": \"\",\n        \"description\": \"\"\n      }\n    },\n    {\n      \"column\": \"Lugar de Compra\",\n      \"properties\": {\n        \"dtype\": \"category\",\n        \"num_unique_values\": 19,\n        \"samples\": [\n          \"Bogot\\u00e1\",\n          \"Pereira\",\n          \"Neiva\"\n        ],\n        \"semantic_type\": \"\",\n        \"description\": \"\"\n      }\n    },\n    {\n      \"column\": \"Calificaci\\u00f3n\",\n      \"properties\": {\n        \"dtype\": \"number\",\n        \"std\": 1,\n        \"min\": 1,\n        \"max\": 5,\n        \"num_unique_values\": 5,\n        \"samples\": [\n          1,\n          2,\n          5\n        ],\n        \"semantic_type\": \"\",\n        \"description\": \"\"\n      }\n    },\n    {\n      \"column\": \"M\\u00e9todo de pago\",\n      \"properties\": {\n        \"dtype\": \"category\",\n        \"num_unique_values\": 4,\n        \"samples\": [\n          \"Nequi\",\n          \"Tarjeta de d\\u00e9bito\",\n          \"Tarjeta de cr\\u00e9dito\"\n        ],\n        \"semantic_type\": \"\",\n        \"description\": \"\"\n      }\n    },\n    {\n      \"column\": \"Cantidad de cuotas\",\n      \"properties\": {\n        \"dtype\": \"number\",\n        \"std\": 2,\n        \"min\": 1,\n        \"max\": 24,\n        \"num_unique_values\": 15,\n        \"samples\": [\n          7,\n          14,\n          8\n        ],\n        \"semantic_type\": \"\",\n        \"description\": \"\"\n      }\n    },\n    {\n      \"column\": \"lat\",\n      \"properties\": {\n        \"dtype\": \"number\",\n        \"std\": 2.2874452492678627,\n        \"min\": -4.21528,\n        \"max\": 11.54444,\n        \"num_unique_values\": 19,\n        \"samples\": [\n          4.60971,\n          4.81333,\n          2.9273\n        ],\n        \"semantic_type\": \"\",\n        \"description\": \"\"\n      }\n    },\n    {\n      \"column\": \"lon\",\n      \"properties\": {\n        \"dtype\": \"number\",\n        \"std\": 1.2178272727088486,\n        \"min\": -77.28111,\n        \"max\": -67.9239,\n        \"num_unique_values\": 19,\n        \"samples\": [\n          -74.08175,\n          -75.69611,\n          -75.28189\n        ],\n        \"semantic_type\": \"\",\n        \"description\": \"\"\n      }\n    }\n  ]\n}"
            }
          },
          "metadata": {},
          "execution_count": 2
        }
      ],
      "source": [
        "import pandas as pd\n",
        "\n",
        "url = \"https://raw.githubusercontent.com/alura-es-cursos/challenge1-data-science-latam/refs/heads/main/base-de-datos-challenge1-latam/tienda_1%20.csv\"\n",
        "url2 = \"https://raw.githubusercontent.com/alura-es-cursos/challenge1-data-science-latam/refs/heads/main/base-de-datos-challenge1-latam/tienda_2.csv\"\n",
        "url3 = \"https://raw.githubusercontent.com/alura-es-cursos/challenge1-data-science-latam/refs/heads/main/base-de-datos-challenge1-latam/tienda_3.csv\"\n",
        "url4 = \"https://raw.githubusercontent.com/alura-es-cursos/challenge1-data-science-latam/refs/heads/main/base-de-datos-challenge1-latam/tienda_4.csv\"\n",
        "\n",
        "tienda = pd.read_csv(url)\n",
        "tienda2 = pd.read_csv(url2)\n",
        "tienda3 = pd.read_csv(url3)\n",
        "tienda4 = pd.read_csv(url4)\n",
        "\n",
        "tienda.head()"
      ]
    },
    {
      "cell_type": "markdown",
      "source": [
        "#1. Análisis de facturación\n",
        "\n"
      ],
      "metadata": {
        "id": "X62IW3KFUIYm"
      }
    },
    {
      "cell_type": "code",
      "source": [
        "# Calcular el ingreso total de cada tienda\n",
        "ingreso_tienda_1 = tienda['Precio'].sum()\n",
        "ingreso_tienda_2 = tienda2['Precio'].sum()\n",
        "ingreso_tienda_3 = tienda3['Precio'].sum()\n",
        "ingreso_tienda_4 = tienda4['Precio'].sum()"
      ],
      "metadata": {
        "id": "xykobSftV64I"
      },
      "execution_count": 5,
      "outputs": []
    },
    {
      "cell_type": "code",
      "source": [
        "# Imprimir los ingresos totales\n",
        "print(\"Ingreso total de la tienda 1:\", ingreso_tienda_1)\n",
        "print(\"Ingreso total de la tienda 2:\", ingreso_tienda_2)\n",
        "print(\"Ingreso total de la tienda 3:\", ingreso_tienda_3)\n",
        "print(\"Ingreso total de la tienda 4:\", ingreso_tienda_4)"
      ],
      "metadata": {
        "id": "KDyr8E71V3m-",
        "colab": {
          "base_uri": "https://localhost:8080/"
        },
        "outputId": "3605f2ca-0041-4b97-e5df-fbc16f49246c"
      },
      "execution_count": 6,
      "outputs": [
        {
          "output_type": "stream",
          "name": "stdout",
          "text": [
            "Ingreso total de la tienda 1: 1150880400.0\n",
            "Ingreso total de la tienda 2: 1116343500.0\n",
            "Ingreso total de la tienda 3: 1098019600.0\n",
            "Ingreso total de la tienda 4: 1038375700.0\n"
          ]
        }
      ]
    },
    {
      "cell_type": "markdown",
      "source": [
        "# 2. Ventas por categoría"
      ],
      "metadata": {
        "id": "2V_vcAPzWZmR"
      }
    },
    {
      "cell_type": "code",
      "source": [
        "# Agrupar por categoría y sumar los precios\n",
        "ventas_por_categoria_tienda_1 = tienda.groupby('Categoría del Producto')['Precio'].sum()\n",
        "ventas_por_categoria_tienda_2 = tienda2.groupby('Categoría del Producto')['Precio'].sum()\n",
        "ventas_por_categoria_tienda_3 = tienda3.groupby('Categoría del Producto')['Precio'].sum()\n",
        "ventas_por_categoria_tienda_4 = tienda4.groupby('Categoría del Producto')['Precio'].sum()\n",
        "\n",
        "# Imprimir las ventas por categoría\n",
        "print(\"Ventas por categoría - Tienda 1:\")\n",
        "print(ventas_por_categoria_tienda_1)\n",
        "print(\"\\nVentas por categoría - Tienda 2:\")\n",
        "print(ventas_por_categoria_tienda_2)\n",
        "print(\"\\nVentas por categoría - Tienda 3:\")\n",
        "print(ventas_por_categoria_tienda_3)\n",
        "print(\"\\nVentas por categoría - Tienda 4:\")\n",
        "print(ventas_por_categoria_tienda_4)"
      ],
      "metadata": {
        "id": "A34YupIuYhfF",
        "colab": {
          "base_uri": "https://localhost:8080/"
        },
        "outputId": "6bb5eea6-c0f7-4a5f-8a83-3ab146bb2ce7"
      },
      "execution_count": 7,
      "outputs": [
        {
          "output_type": "stream",
          "name": "stdout",
          "text": [
            "Ventas por categoría - Tienda 1:\n",
            "Categoría del Producto\n",
            "Artículos para el hogar     12698400.0\n",
            "Deportes y diversión        39290000.0\n",
            "Electrodomésticos          363685200.0\n",
            "Electrónicos               429493500.0\n",
            "Instrumentos musicales      91299000.0\n",
            "Juguetes                    17995700.0\n",
            "Libros                       8784900.0\n",
            "Muebles                    187633700.0\n",
            "Name: Precio, dtype: float64\n",
            "\n",
            "Ventas por categoría - Tienda 2:\n",
            "Categoría del Producto\n",
            "Artículos para el hogar     14746900.0\n",
            "Deportes y diversión        34744500.0\n",
            "Electrodomésticos          348567800.0\n",
            "Electrónicos               410831100.0\n",
            "Instrumentos musicales     104990300.0\n",
            "Juguetes                    15945400.0\n",
            "Libros                      10091200.0\n",
            "Muebles                    176426300.0\n",
            "Name: Precio, dtype: float64\n",
            "\n",
            "Ventas por categoría - Tienda 3:\n",
            "Categoría del Producto\n",
            "Artículos para el hogar     15060000.0\n",
            "Deportes y diversión        35593100.0\n",
            "Electrodomésticos          329237900.0\n",
            "Electrónicos               410775800.0\n",
            "Instrumentos musicales      77380900.0\n",
            "Juguetes                    19401100.0\n",
            "Libros                       9498700.0\n",
            "Muebles                    201072100.0\n",
            "Name: Precio, dtype: float64\n",
            "\n",
            "Ventas por categoría - Tienda 4:\n",
            "Categoría del Producto\n",
            "Artículos para el hogar     15074500.0\n",
            "Deportes y diversión        33350100.0\n",
            "Electrodomésticos          283260200.0\n",
            "Electrónicos               409476100.0\n",
            "Instrumentos musicales      75102400.0\n",
            "Juguetes                    20262200.0\n",
            "Libros                       9321300.0\n",
            "Muebles                    192528900.0\n",
            "Name: Precio, dtype: float64\n"
          ]
        }
      ]
    },
    {
      "cell_type": "code",
      "source": [],
      "metadata": {
        "id": "yZR6cOjXYSk1"
      },
      "execution_count": null,
      "outputs": []
    },
    {
      "cell_type": "markdown",
      "source": [
        "# 3. Calificación promedio de la tienda\n"
      ],
      "metadata": {
        "id": "Rq6tU_xSY3jk"
      }
    },
    {
      "cell_type": "code",
      "source": [
        "# Calcular la calificación promedio de cada tienda\n",
        "calificacion_promedio_tienda_1 = tienda['Calificación'].mean()\n",
        "calificacion_promedio_tienda_2 = tienda2['Calificación'].mean()\n",
        "calificacion_promedio_tienda_3 = tienda3['Calificación'].mean()\n",
        "calificacion_promedio_tienda_4 = tienda4['Calificación'].mean()\n",
        "\n",
        "# Imprimir las calificaciones promedio\n",
        "print(\"Calificación promedio de la tienda 1:\", calificacion_promedio_tienda_1)\n",
        "print(\"Calificación promedio de la tienda 2:\", calificacion_promedio_tienda_2)\n",
        "print(\"Calificación promedio de la tienda 3:\", calificacion_promedio_tienda_3)\n",
        "print(\"Calificación promedio de la tienda 4:\", calificacion_promedio_tienda_4)"
      ],
      "metadata": {
        "id": "bh3jjjJwY5MU",
        "colab": {
          "base_uri": "https://localhost:8080/"
        },
        "outputId": "e02e4262-49b2-402e-94a7-35317675c059"
      },
      "execution_count": 8,
      "outputs": [
        {
          "output_type": "stream",
          "name": "stdout",
          "text": [
            "Calificación promedio de la tienda 1: 3.976685036032217\n",
            "Calificación promedio de la tienda 2: 4.037303942348453\n",
            "Calificación promedio de la tienda 3: 4.048325561678677\n",
            "Calificación promedio de la tienda 4: 3.9957591178965224\n"
          ]
        }
      ]
    },
    {
      "cell_type": "code",
      "source": [],
      "metadata": {
        "id": "I0KkjPoTY88F"
      },
      "execution_count": null,
      "outputs": []
    },
    {
      "cell_type": "markdown",
      "source": [
        "# 4. Productos más y menos vendidos"
      ],
      "metadata": {
        "id": "DmNp1KPBZCm-"
      }
    },
    {
      "cell_type": "code",
      "source": [
        "# Agrupar por producto y sumar la cantidad vendida\n",
        "productos_vendidos_tienda_1 = tienda.groupby('Producto')['Cantidad de cuotas'].sum()\n",
        "productos_vendidos_tienda_2 = tienda2.groupby('Producto')['Cantidad de cuotas'].sum()\n",
        "productos_vendidos_tienda_3 = tienda3.groupby('Producto')['Cantidad de cuotas'].sum()\n",
        "productos_vendidos_tienda_4 = tienda4.groupby('Producto')['Cantidad de cuotas'].sum()\n",
        "\n",
        "# Encontrar los productos más y menos vendidos\n",
        "mas_vendidos_tienda_1 = productos_vendidos_tienda_1.idxmax(), productos_vendidos_tienda_1.max()\n",
        "menos_vendidos_tienda_1 = productos_vendidos_tienda_1.idxmin(), productos_vendidos_tienda_1.min()\n",
        "\n",
        "mas_vendidos_tienda_2 = productos_vendidos_tienda_2.idxmax(), productos_vendidos_tienda_2.max()\n",
        "menos_vendidos_tienda_2 = productos_vendidos_tienda_2.idxmin(), productos_vendidos_tienda_2.min()\n",
        "\n",
        "mas_vendidos_tienda_3 = productos_vendidos_tienda_3.idxmax(), productos_vendidos_tienda_3.max()\n",
        "menos_vendidos_tienda_3 = productos_vendidos_tienda_3.idxmin(), productos_vendidos_tienda_3.min()\n",
        "\n",
        "mas_vendidos_tienda_4 = productos_vendidos_tienda_4.idxmax(), productos_vendidos_tienda_4.max()\n",
        "menos_vendidos_tienda_4 = productos_vendidos_tienda_4.idxmin(), productos_vendidos_tienda_4.min()\n",
        "\n",
        "# Imprimir resultados\n",
        "print(\"Tienda 1 - Producto más vendido:\", mas_vendidos_tienda_1)\n",
        "print(\"Tienda 1 - Producto menos vendido:\", menos_vendidos_tienda_1)\n",
        "\n",
        "print(\"\\nTienda 2 - Producto más vendido:\", mas_vendidos_tienda_2)\n",
        "print(\"Tienda 2 - Producto menos vendido:\", menos_vendidos_tienda_2)\n",
        "\n",
        "print(\"\\nTienda 3 - Producto más vendido:\", mas_vendidos_tienda_3)\n",
        "print(\"Tienda 3 - Producto menos vendido:\", menos_vendidos_tienda_3)\n",
        "\n",
        "print(\"\\nTienda 4 - Producto más vendido:\", mas_vendidos_tienda_4)\n",
        "print(\"Tienda 4 - Producto menos vendido:\", menos_vendidos_tienda_4)"
      ],
      "metadata": {
        "id": "qoyjqijQZHfF",
        "colab": {
          "base_uri": "https://localhost:8080/"
        },
        "outputId": "d4071dd6-c5a7-4cd0-873f-9e744fd817a5"
      },
      "execution_count": 9,
      "outputs": [
        {
          "output_type": "stream",
          "name": "stdout",
          "text": [
            "Tienda 1 - Producto más vendido: ('Secadora de ropa', 214)\n",
            "Tienda 1 - Producto menos vendido: ('Celular ABXY', 78)\n",
            "\n",
            "Tienda 2 - Producto más vendido: ('Iniciando en programación', 223)\n",
            "Tienda 2 - Producto menos vendido: ('Mesa de comedor', 89)\n",
            "\n",
            "Tienda 3 - Producto más vendido: ('Bicicleta', 191)\n",
            "Tienda 3 - Producto menos vendido: ('TV LED UHD 4K', 94)\n",
            "\n",
            "Tienda 4 - Producto más vendido: ('Dashboards con Power BI', 196)\n",
            "Tienda 4 - Producto menos vendido: ('Armario', 88)\n"
          ]
        }
      ]
    },
    {
      "cell_type": "code",
      "source": [],
      "metadata": {
        "id": "0Sw3sd4IZIGW"
      },
      "execution_count": null,
      "outputs": []
    },
    {
      "cell_type": "markdown",
      "source": [
        "# 5. Envío promedio por tienda"
      ],
      "metadata": {
        "id": "Fl0cGi3bZKqU"
      }
    },
    {
      "cell_type": "code",
      "source": [
        "# Calcular el costo de envío promedio de cada tienda\n",
        "envio_promedio_tienda_1 = tienda['Costo de envío'].mean()\n",
        "envio_promedio_tienda_2 = tienda2['Costo de envío'].mean()\n",
        "envio_promedio_tienda_3 = tienda3['Costo de envío'].mean()\n",
        "envio_promedio_tienda_4 = tienda4['Costo de envío'].mean()\n",
        "\n",
        "# Imprimir los costos de envío promedio\n",
        "print(\"Costo de envío promedio de la tienda 1:\", envio_promedio_tienda_1)\n",
        "print(\"Costo de envío promedio de la tienda 2:\", envio_promedio_tienda_2)\n",
        "print(\"Costo de envío promedio de la tienda 3:\", envio_promedio_tienda_3)\n",
        "print(\"Costo de envío promedio de la tienda 4:\", envio_promedio_tienda_4)"
      ],
      "metadata": {
        "id": "S2JeaCykZNy9",
        "colab": {
          "base_uri": "https://localhost:8080/"
        },
        "outputId": "930b3b6f-dbca-470c-9144-ad1dfc60410f"
      },
      "execution_count": 10,
      "outputs": [
        {
          "output_type": "stream",
          "name": "stdout",
          "text": [
            "Costo de envío promedio de la tienda 1: 26018.60958033065\n",
            "Costo de envío promedio de la tienda 2: 25216.235693090293\n",
            "Costo de envío promedio de la tienda 3: 24805.680373039424\n",
            "Costo de envío promedio de la tienda 4: 23459.457167090754\n"
          ]
        }
      ]
    },
    {
      "cell_type": "code",
      "source": [
        "import matplotlib.pyplot as plt\n",
        "\n",
        "# Datos calculados anteriormente\n",
        "ingresos = [\n",
        "    ingreso_tienda_1,\n",
        "    ingreso_tienda_2,\n",
        "    ingreso_tienda_3,\n",
        "    ingreso_tienda_4\n",
        "]\n",
        "\n",
        "calificaciones = [\n",
        "    calificacion_promedio_tienda_1,\n",
        "    calificacion_promedio_tienda_2,\n",
        "    calificacion_promedio_tienda_3,\n",
        "    calificacion_promedio_tienda_4\n",
        "]\n",
        "\n",
        "envios = [\n",
        "    envio_promedio_tienda_1,\n",
        "    envio_promedio_tienda_2,\n",
        "    envio_promedio_tienda_3,\n",
        "    envio_promedio_tienda_4\n",
        "]\n",
        "\n",
        "tiendas = ['Tienda 1', 'Tienda 2', 'Tienda 3', 'Tienda 4']\n",
        "\n",
        "# Gráfico de barras para ingresos por tienda\n",
        "plt.figure(figsize=(10, 5))\n",
        "plt.bar(tiendas, ingresos, color='blue')\n",
        "plt.title('Ingresos por Tienda')\n",
        "plt.xlabel('Tiendas')\n",
        "plt.ylabel('Ingresos')\n",
        "plt.grid(axis='y')\n",
        "plt.show()\n",
        "\n",
        "# Gráfico de líneas para calificación promedio por tienda\n",
        "plt.figure(figsize=(10, 5))\n",
        "plt.plot(tiendas, calificaciones, marker='o', color='green', linestyle='-')\n",
        "plt.title('Calificación Promedio por Tienda')\n",
        "plt.xlabel('Tiendas')\n",
        "plt.ylabel('Calificación Promedio')\n",
        "plt.grid()\n",
        "plt.show()\n",
        "\n",
        "# Gráfico de dispersión para costo de envío promedio por tienda\n",
        "plt.figure(figsize=(10, 5))\n",
        "plt.scatter(tiendas, envios, color='orange', s=100)\n",
        "plt.title('Costo de Envío Promedio por Tienda')\n",
        "plt.xlabel('Tiendas')\n",
        "plt.ylabel('Costo de Envío Promedio')\n",
        "plt.grid()\n",
        "plt.show()"
      ],
      "metadata": {
        "id": "0tSdCie9ZQlt",
        "colab": {
          "base_uri": "https://localhost:8080/",
          "height": 1000
        },
        "outputId": "6e2262c5-e93a-46e8-c4ea-3f221b29ec28"
      },
      "execution_count": 13,
      "outputs": [
        {
          "output_type": "display_data",
          "data": {
            "text/plain": [
              "<Figure size 1000x500 with 1 Axes>"
            ],
            "image/png": "[encoded data removed]"
          },
          "metadata": {}
        },
        {
          "output_type": "display_data",
          "data": {
            "text/plain": [
              "<Figure size 1000x500 with 1 Axes>"
            ],
            "image/png": "[encoded data removed]"
          },
          "metadata": {}
        },
        {
          "output_type": "display_data",
          "data": {
            "text/plain": [
              "<Figure size 1000x500 with 1 Axes>"
            ],
            "image/png": "[encoded data removed]"
          },
          "metadata": {}
        }
      ]
    },
    {
      "cell_type": "markdown",
      "source": [
        "Informe Final sobre el Análisis de Tiendas\n",
        "\n",
        "Introducción\n",
        "\n",
        "El presente informe tiene como objetivo analizar y comparar cuatro tiendas diferentes en función de varios factores clave, como los ingresos totales, las categorías de productos más y menos vendidas, las calificaciones promedio de los clientes, los productos más y menos vendidos, y el costo de envío promedio. Este análisis se realiza con el fin de recomendar al Sr. Juan la tienda más adecuada para realizar sus ventas, basándose en datos cuantitativos y visualizaciones generadas a partir de los mismos.\n",
        "\n",
        "Desarrollo\n",
        "Ingresos Totales de las Tiendas\n",
        "\n",
        "Tienda 1: 1,150,880,400.0\n",
        "\n",
        "Tienda 2: 1,116,343,500.0\n",
        "\n",
        "Tienda 3: 1,098,019,600.0\n",
        "\n",
        "Tienda 4: 1,038,375,700.0\n",
        "\n",
        "De los ingresos totales, la Tienda 1 se destaca como la que más ingresos genera, seguida de cerca por la Tienda 2. La Tienda 4, por otro lado, es la que menos ingresos reporta.\n",
        "\n",
        "Categorías de Productos Más y Menos Vendidas\n",
        "\n",
        "Tienda 1:\n",
        "\n",
        "Más vendida: Electrodomésticos (363,685,200.0)\n",
        "\n",
        "Menos vendida: Juguetes (17,995,700.0)\n",
        "\n",
        "Tienda 2:\n",
        "\n",
        "Más vendida: Electrónicos (410,831,100.0)\n",
        "\n",
        "Menos vendida: Juguetes (15,945,400.0)\n",
        "\n",
        "Tienda 3:\n",
        "\n",
        "Más vendida: Electrónicos (410,775,800.0)\n",
        "\n",
        "Menos vendida: Libros (9,498,700.0)\n",
        "\n",
        "Tienda 4:\n",
        "\n",
        "Más vendida: Electrónicos (409,476,100.0)\n",
        "\n",
        "Menos vendida: Libros (9,321,300.0)\n",
        "\n",
        "Las categorías más vendidas en cada tienda indican las preferencias de los consumidores. La categoría de Electrónicos es la más popular en las Tiendas 2, 3 y 4, lo que sugiere una fuerte demanda en esa área.\n",
        "\n",
        "Calificaciones Promedio de los Clientes por Tienda\n",
        "\n",
        "Tienda 1: 3.98\n",
        "\n",
        "Tienda 2: 4.04\n",
        "\n",
        "Tienda 3: 4.05\n",
        "\n",
        "Tienda 4: 3.99\n",
        "\n",
        "Las calificaciones promedio reflejan la satisfacción del cliente. La Tienda 3 tiene la calificación más alta, lo que indica un buen servicio al cliente y productos de calidad.\n",
        "\n",
        "Productos Más y Menos Vendidos\n",
        "\n",
        "Tienda 1:\n",
        "\n",
        "Más vendido: Secadora de ropa (214 unidades)\n",
        "\n",
        "Menos vendido: Celular ABXY (78 unidades)\n",
        "\n",
        "Tienda 2:\n",
        "\n",
        "Más vendido: Iniciando en programación (223 unidades)\n",
        "\n",
        "Menos vendido: Mesa de comedor (89 unidades)\n",
        "\n",
        "Tienda 3:\n",
        "\n",
        "Más vendido: Bicicleta (191 unidades)\n",
        "\n",
        "Menos vendido: TV LED UHD 4K (94 unidades)\n",
        "\n",
        "Tienda 4:\n",
        "\n",
        "Más vendido: Dashboards con Power BI (196 unidades)\n",
        "\n",
        "Menos vendido: Armario (88 unidades)\n",
        "\n",
        "Identificar los productos más vendidos puede ayudar a entender qué ofrecer en la tienda. La Tienda 2 destaca con el producto más vendido, \"Iniciando en programación\", que podría atraer a un público amplio.\n",
        "\n",
        "Costo de Envío Promedio para Cada Tienda\n",
        "\n",
        "Tienda 1: 26,018.61\n",
        "\n",
        "Tienda 2: 25,216.24\n",
        "\n",
        "Tienda 3: 24,805.68\n",
        "\n",
        "Tienda 4: 23,459.46\n",
        "\n",
        "Un costo de envío promedio más bajo puede ser un factor decisivo para los clientes al elegir dónde comprar. La Tienda 4 tiene el costo de envío más bajo, lo que podría atraer más clientes.\n",
        "\n",
        "Conclusión\n",
        "\n",
        "Se debe considerar la venta de la Tienda 4 debido a su desempeño deficiente en varios aspectos clave que indican que no es una opción viable para el Sr. Juan. A continuación, se presentan las razones por las cuales esta tienda debería ser descartada:\n",
        "\n",
        "Bajo Volumen de Ventas: La Tienda 4 presenta el ingreso total más bajo (1,038,375,700.0) en comparación con las otras tiendas. Este bajo rendimiento en ingresos sugiere que la tienda no está logrando captar la atención de los consumidores, lo que podría indicar problemas en la oferta de productos o en la estrategia de marketing.\n",
        "\n",
        "Calificaciones Promedio Insatisfactorias: La calificación promedio de la Tienda 4 es de 3.99, que es inferior a la de las otras tiendas. Esto sugiere que los clientes no están satisfechos con su experiencia de compra, lo que puede llevar a una menor lealtad del cliente y, por ende, a una disminución en las ventas futuras.\n",
        "\n",
        "Productos Menos Vendidos: La Tienda 4 tiene el producto menos vendido, \"Armario\" (88 unidades), lo que indica que hay una falta de interés en su oferta actual. Esto puede ser un signo de que los productos no son atractivos o relevantes para los consumidores, lo que limita las oportunidades de venta.\n",
        "\n",
        "Categorías de Productos Débiles: Las categorías de productos en la Tienda 4 no están generando suficientes ingresos en comparación con las otras tiendas. Esto sugiere que la tienda no está alineada con las preferencias del mercado, lo que puede ser un obstáculo significativo para su éxito.\n",
        "\n",
        "Costo de Envío Promedio: Aunque la Tienda 4 tiene el costo de envío promedio más bajo (23,459.46), esto no ha sido suficiente para atraer a más clientes. Esto indica que otros factores, como la calidad del producto y la satisfacción del cliente, son más importantes para los consumidores que el costo de envío.\n",
        "\n",
        "Para finalizar la Tienda 4 presenta múltiples debilidades que la hacen poco atractiva para el Sr. Juan. Su bajo volumen de ventas, calificaciones insatisfactorias, productos menos vendidos y categorías débiles sugieren que no es una opción viable para realizar ventas. Por lo tanto, se recomienda que el Sr. Juan considere otras tiendas que ofrezcan un mejor rendimiento y mayores oportunidades de éxito."
      ],
      "metadata": {
        "id": "-xMzseGD1Sqs"
      }
    },
    {
      "cell_type": "code",
      "source": [
        "import pandas as pd\n",
        "\n",
        "# Cargar los datos\n",
        "url = \"https://raw.githubusercontent.com/alura-es-cursos/challenge1-data-science-latam/refs/heads/main/base-de-datos-challenge1-latam/tienda_1%20.csv\"\n",
        "tienda = pd.read_csv(url)\n",
        "\n",
        "# Mostrar las primeras filas y las columnas del DataFrame\n",
        "print(tienda.head())\n",
        "print(tienda.columns)\n"
      ],
      "metadata": {
        "colab": {
          "base_uri": "https://localhost:8080/"
        },
        "id": "GbVzl5B47lVG",
        "outputId": "a176000d-6d07-4f9c-c58f-84af631303e2"
      },
      "execution_count": 19,
      "outputs": [
        {
          "output_type": "stream",
          "name": "stdout",
          "text": [
            "            Producto Categoría del Producto    Precio  Costo de envío  \\\n",
            "0  Asistente virtual           Electrónicos  164300.0          6900.0   \n",
            "1    Mesa de comedor                Muebles  192300.0          8400.0   \n",
            "2      Juego de mesa               Juguetes  209600.0         15900.0   \n",
            "3         Microondas      Electrodomésticos  757500.0         41000.0   \n",
            "4   Silla de oficina                Muebles  335200.0         20200.0   \n",
            "\n",
            "  Fecha de Compra         Vendedor Lugar de Compra  Calificación  \\\n",
            "0      16/01/2021      Pedro Gomez          Bogotá             4   \n",
            "1      18/05/2022  Beatriz Morales        Medellín             1   \n",
            "2      15/03/2021   Juan Fernandez       Cartagena             1   \n",
            "3      03/05/2022   Juan Fernandez            Cali             4   \n",
            "4      07/11/2020    Maria Alfonso        Medellín             5   \n",
            "\n",
            "       Método de pago  Cantidad de cuotas       lat       lon  \n",
            "0  Tarjeta de crédito                   8   4.60971 -74.08175  \n",
            "1  Tarjeta de crédito                   4   6.25184 -75.56359  \n",
            "2  Tarjeta de crédito                   1  10.39972 -75.51444  \n",
            "3               Nequi                   1   3.43722 -76.52250  \n",
            "4               Nequi                   1   6.25184 -75.56359  \n",
            "Index(['Producto', 'Categoría del Producto', 'Precio', 'Costo de envío',\n",
            "       'Fecha de Compra', 'Vendedor', 'Lugar de Compra', 'Calificación',\n",
            "       'Método de pago', 'Cantidad de cuotas', 'lat', 'lon'],\n",
            "      dtype='object')\n"
          ]
        }
      ]
    },
    {
      "cell_type": "code",
      "source": [
        "# Verificar si las columnas 'lat' y 'lon' están en el DataFrame\n",
        "if 'lat' in tienda.columns and 'lon' in tienda.columns:\n",
        "    # Extraer las coordenadas\n",
        "    latitudes = tienda['lat']\n",
        "    longitudes = tienda['lon']\n",
        "    precios = tienda['Precio']  # Suponiendo que 'Precio' es la columna de ingresos\n",
        "\n",
        "    # Crear un nuevo DataFrame con las coordenadas y precios\n",
        "    datos_geograficos = pd.DataFrame({\n",
        "        'lat': latitudes,\n",
        "        'lon': longitudes,\n",
        "        'Precio': precios\n",
        "    })\n",
        "\n",
        "    print(datos_geograficos)\n",
        "else:\n",
        "    print(\"Las columnas de latitud y longitud no están presentes en el DataFrame.\")\n",
        "\n",
        "import matplotlib.pyplot as plt\n",
        "\n"
      ],
      "metadata": {
        "colab": {
          "base_uri": "https://localhost:8080/"
        },
        "id": "GMVNqBI98CAB",
        "outputId": "3e82614e-e113-4f4f-900c-51591a453ff0"
      },
      "execution_count": 23,
      "outputs": [
        {
          "output_type": "stream",
          "name": "stdout",
          "text": [
            "           lat       lon     Precio\n",
            "0      4.60971 -74.08175   164300.0\n",
            "1      6.25184 -75.56359   192300.0\n",
            "2     10.39972 -75.51444   209600.0\n",
            "3      3.43722 -76.52250   757500.0\n",
            "4      6.25184 -75.56359   335200.0\n",
            "...        ...       ...        ...\n",
            "2354   6.25184 -75.56359  1284400.0\n",
            "2355   4.60971 -74.08175   282800.0\n",
            "2356   3.43722 -76.52250   122900.0\n",
            "2357   1.21361 -77.28111   691300.0\n",
            "2358   3.43722 -76.52250   195000.0\n",
            "\n",
            "[2359 rows x 3 columns]\n"
          ]
        }
      ]
    },
    {
      "cell_type": "code",
      "source": [
        "# Crear un gráfico de dispersión\n",
        "plt.figure(figsize=(10, 6))\n",
        "plt.scatter(tiendas['lon'], tiendas['lat'], s=tiendas['Precio'] / 10000000, alpha=0.5, c='blue', edgecolors='w')\n",
        "plt.title('Distribución Geográfica de Ventas por Tienda')\n",
        "plt.xlabel('Longitud')\n",
        "plt.ylabel('Latitud')\n",
        "plt.grid()\n",
        "plt.show()"
      ],
      "metadata": {
        "colab": {
          "base_uri": "https://localhost:8080/",
          "height": 565
        },
        "id": "aim1MeNJ8NsE",
        "outputId": "2bb51607-f2b9-43b2-ec90-5764c0cb48f7"
      },
      "execution_count": 24,
      "outputs": [
        {
          "output_type": "display_data",
          "data": {
            "text/plain": [
              "<Figure size 1000x600 with 1 Axes>"
            ],
            "image/png": "[encoded data removed]"
          },
          "metadata": {}
        }
      ]
    },
    {
      "cell_type": "code",
      "source": [
        "# Crear un mapa de calor\n",
        "plt.figure(figsize=(10, 6))\n",
        "sns.kdeplot(data=tiendas, x='lon', y='lat', fill=True, cmap='Blues', thresh=0, levels=20)\n",
        "plt.title('Mapa de Calor de Ventas por Tienda')\n",
        "plt.xlabel('Longitud')\n",
        "plt.ylabel('Latitud')\n",
        "plt.show()"
      ],
      "metadata": {
        "colab": {
          "base_uri": "https://localhost:8080/",
          "height": 564
        },
        "id": "6gXItYO09lyA",
        "outputId": "588a4b22-0b98-4fa3-bdaf-a5eeaab11351"
      },
      "execution_count": 25,
      "outputs": [
        {
          "output_type": "display_data",
          "data": {
            "text/plain": [
              "<Figure size 1000x600 with 1 Axes>"
            ],
            "image/png": "[encoded data removed]"
          },
          "metadata": {}
        }
      ]
    }
  ]
}